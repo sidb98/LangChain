{
 "cells": [
  {
   "cell_type": "code",
   "execution_count": 57,
   "metadata": {},
   "outputs": [
    {
     "name": "stdout",
     "output_type": "stream",
     "text": [
      "Note: you may need to restart the kernel to use updated packages.\n"
     ]
    }
   ],
   "source": [
    "# %pip install pinecone-client -q\n",
    "# %pip install langchain -q\n",
    "# %pip install unstructured -q\n",
    "# %pip install tiktoken -q"
   ]
  },
  {
   "cell_type": "code",
   "execution_count": 32,
   "metadata": {},
   "outputs": [],
   "source": [
    "import langchain\n",
    "\n",
    "from langchain.document_loaders import UnstructuredPDFLoader\n",
    "from langchain.text_splitter import RecursiveCharacterTextSplitter\n",
    "\n",
    "from langchain.vectorstores import Pinecone\n",
    "from langchain.embeddings.openai import OpenAIEmbeddings\n",
    "\n",
    "from langchain.llms import OpenAI\n",
    "from langchain.chains.question_answering import load_qa_chain\n",
    "\n",
    "from langchain.cache import InMemoryCache\n",
    "\n",
    "\n",
    "import pinecone\n",
    "import config_api"
   ]
  },
  {
   "cell_type": "code",
   "execution_count": 21,
   "metadata": {},
   "outputs": [],
   "source": [
    "loader = UnstructuredPDFLoader('docs/intro-ds.pdf')\n",
    "data = loader.load()\n",
    "\n",
    "text_splitter = RecursiveCharacterTextSplitter(chunk_size=1000, chunk_overlap=0)\n",
    "texts = text_splitter.split_documents(data)"
   ]
  },
  {
   "cell_type": "code",
   "execution_count": 22,
   "metadata": {},
   "outputs": [],
   "source": [
    "embeddings = OpenAIEmbeddings(openai_api_key=config_api.OPENAI_API_KEY)"
   ]
  },
  {
   "cell_type": "code",
   "execution_count": 25,
   "metadata": {},
   "outputs": [],
   "source": [
    "pinecone.init(\n",
    "    api_key=config_api.PINECONE_API_KEY, environment=config_api.PINECONE_API_ENV\n",
    ")\n",
    "index_name = \"langchain-pdf-qa\"\n",
    "\n",
    "docsearch = Pinecone.from_texts([text.page_content for text in texts],embedding=embeddings, index_name=index_name)\n",
    "\n",
    "## if Pinecone index already exists\n",
    "# docsearch = Pinecone.from_existing_index(index_name, embeddings=embeddings)"
   ]
  },
  {
   "cell_type": "code",
   "execution_count": 33,
   "metadata": {},
   "outputs": [],
   "source": [
    "llm = OpenAI(openai_api_key=config_api.OPENAI_API_KEY, temperature=0)\n",
    "langchain.llm_cache = InMemoryCache()\n",
    "\n",
    "chain = load_qa_chain(llm, chain_type=\"stuff\")"
   ]
  },
  {
   "cell_type": "code",
   "execution_count": 27,
   "metadata": {},
   "outputs": [
    {
     "name": "stdout",
     "output_type": "stream",
     "text": [
      " Data science is a rapidly evolving field that encompasses a variety of skills and disciplines, including engineering, analysis, and modeling/inference. It is used to extract useful information from data and is often associated with machine learning, deep learning, data mining, and pattern recognition.\n"
     ]
    }
   ],
   "source": [
    "query = \"What is data science?\"\n",
    "\n",
    "docs = docsearch.similarity_search(query)\n",
    "answer = chain.run(input_documents=docs, question=query)\n",
    "\n",
    "print(answer)\n"
   ]
  },
  {
   "cell_type": "code",
   "execution_count": null,
   "metadata": {},
   "outputs": [],
   "source": []
  }
 ],
 "metadata": {
  "kernelspec": {
   "display_name": "LangChain",
   "language": "python",
   "name": "python3"
  },
  "language_info": {
   "codemirror_mode": {
    "name": "ipython",
    "version": 3
   },
   "file_extension": ".py",
   "mimetype": "text/x-python",
   "name": "python",
   "nbconvert_exporter": "python",
   "pygments_lexer": "ipython3",
   "version": "3.11.4"
  },
  "orig_nbformat": 4
 },
 "nbformat": 4,
 "nbformat_minor": 2
}
